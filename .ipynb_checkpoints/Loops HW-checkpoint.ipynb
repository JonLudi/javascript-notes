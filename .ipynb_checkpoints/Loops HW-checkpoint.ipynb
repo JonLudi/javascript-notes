{
 "cells": [
  {
   "cell_type": "markdown",
   "id": "8a40664f-e169-417d-b70b-c7e5726f1a03",
   "metadata": {},
   "source": [
    "# Loops in javascript"
   ]
  },
  {
   "cell_type": "markdown",
   "id": "a0803b59-c12e-4d29-881b-1ca870f03844",
   "metadata": {},
   "source": [
    "***"
   ]
  },
  {
   "cell_type": "markdown",
   "id": "008f16d1-9f10-46db-8f1d-86b7be0e45d5",
   "metadata": {},
   "source": [
    "Loops are fundamental constructs in programming used to automate repetitive tasks,\r\n",
    "thereby making code more efficient and less cluttered. They are particularly useful in various\r\n",
    "scenarios, such as processing lists or arrays, repeating actions, or handling user inputs. Loops\r\n",
    "typically utilize an iterator variable, which tracks the state or progress of the loop. This\r\n",
    "iterator is often integral to the condition that determines when the loop starts and stops. By\r\n",
    "evaluating this condition, the loop can execute its code block repeatedly until the specified\r\n",
    "condition is no longer met."
   ]
  },
  {
   "cell_type": "raw",
   "id": "b0b3d3c3-d3e5-4da2-935f-f92a4591ca99",
   "metadata": {},
   "source": [
    "Iterator variables can have any name, yet often are represented by the letter i or another\n",
    "short letter."
   ]
  },
  {
   "cell_type": "markdown",
   "id": "b231fefd-9a2f-4ab7-bd29-e655e65492f8",
   "metadata": {},
   "source": [
    "Note that in loops we often have a condition to change or modify the condition."
   ]
  },
  {
   "cell_type": "markdown",
   "id": "101b2171-8146-4c79-8d0c-d94c255f4cbc",
   "metadata": {},
   "source": [
    "Loops, like most logic in programming can be evaluating to True or False ."
   ]
  },
  {
   "cell_type": "markdown",
   "id": "434ea3d0-7c81-45b5-a964-aa07067b7ba6",
   "metadata": {},
   "source": [
    "# Types of Loops"
   ]
  },
  {
   "cell_type": "markdown",
   "id": "73dcf813-3d43-4649-8084-c6c811540de2",
   "metadata": {},
   "source": [
    "***"
   ]
  },
  {
   "cell_type": "markdown",
   "id": "d5a63892-c559-4a60-8163-9e9a78b239a3",
   "metadata": {},
   "source": [
    "While Loops"
   ]
  },
  {
   "cell_type": "markdown",
   "id": "4089bce2-3e2e-43fa-adb1-ff2ad0236633",
   "metadata": {},
   "source": [
    "A \"While\" Loop is used to repeat a specific block of code an unknown number of times, until\n",
    "a condition is met. For example, if we want to ask a user for a number between 1 and 10, we\n",
    "don't know how many times the user may enter a larger number, so we keep asking \"while\n",
    "the number is not between 1 and 10\". If we (or the computer) knows exactly how many times\n",
    "to execute a section of code (such as shuffling a deck of cards) we use a for loop."
   ]
  },
  {
   "cell_type": "markdown",
   "id": "3b109b97-0a08-4aae-8865-ae81b59c80b1",
   "metadata": {},
   "source": [
    "//This loop just counts from 1 to 4 and prints out the loops literator variable value\n",
    "\n",
    "let i = 1\n",
    "\n",
    "while(i < 5){\n",
    "    console.log(i + \"silly looking dogs\");\n",
    "    i++;\n",
    "}"
   ]
  },
  {
   "cell_type": "markdown",
   "id": "a79a7ca3-bf72-426f-b915-0c1f3e903d96",
   "metadata": {},
   "source": [
    "Note: Please not the i++ which is incrementing the value of i . Without this this while\r\n",
    "loop would be stuck forever, since the condition is not being changed or satisfied."
   ]
  },
  {
   "cell_type": "code",
   "execution_count": 7,
   "id": "e6ead2fb-758e-4569-a889-204eff70e0fe",
   "metadata": {},
   "outputs": [
    {
     "name": "stdout",
     "output_type": "stream",
     "text": [
      "10\n",
      "9\n",
      "8\n",
      "7\n",
      "6\n",
      "5\n",
      "4\n",
      "3\n",
      "2\n",
      "1\n"
     ]
    },
    {
     "data": {
      "text/plain": [
       "1"
      ]
     },
     "execution_count": 7,
     "metadata": {},
     "output_type": "execute_result"
    }
   ],
   "source": [
    "let count = 10;\n",
    "\n",
    "while (count > 0){\n",
    "    console.log(count);\n",
    "    count--;\n",
    "}"
   ]
  },
  {
   "cell_type": "code",
   "execution_count": 8,
   "id": "aeb3994d-551f-446c-811d-c79caad08676",
   "metadata": {},
   "outputs": [
    {
     "name": "stdout",
     "output_type": "stream",
     "text": [
      "Sum is 55\n"
     ]
    }
   ],
   "source": [
    "let sum = 0;\n",
    "let number = 1;\n",
    "while(number <= 10){\n",
    "sum += number;\n",
    "    number ++;\n",
    "}\n",
    "console.log(\"Sum is\", sum);"
   ]
  },
  {
   "cell_type": "markdown",
   "id": "e88b790d-c161-42c9-bafa-3caae6fc862f",
   "metadata": {},
   "source": [
    "For Loops"
   ]
  },
  {
   "cell_type": "markdown",
   "id": "09bdea1a-5f1c-417d-b909-1fbb559397b5",
   "metadata": {},
   "source": [
    "A \"For\" loop is used to repeat a s[pecific block of code a known number of times. For example if we want to know the grade \n",
    "of every student in the class , we loop from 1 to that number.When the number of times is not known before hand we use a \"WHILE\" loop.\n",
    "The for loop is used to repeat a section of code known number of times. Sometimes it is the computer \n",
    "computer that knows how many times, not you, but it is still known. Some examples:\r\n",
    "Unknown number of times:\r\n",
    "\"Ask the User to Guess a pre-determined number between 1 and 100\". You have no way of\r\n",
    "knowing how many guesses it will take.\r\n",
    "\"Randomly look in an array for a given value.\" You have no way of knowing how many tries it"
   ]
  },
  {
   "cell_type": "markdown",
   "id": "45f303e1-45e7-4bb9-b7c5-047349c6eb4c",
   "metadata": {},
   "source": [
    "Note: this is a made-up example, because you would never randomly look into an array to\r\n",
    "find a value. You would always start at the front of the array and look one element at a time\r\n",
    "until you found the item or got to the end of the array.\r\n",
    "Known number of times:\r\n",
    "Compute the average grade of the class. While you (the programmer) might not know how\r\n",
    "many grades exist in the class, the computer will know. Usually this is accomplished by using\r\n",
    "the \"length\" function on an array.\r\n",
    "Print the odd numbers from 1 to 1001.\r\n",
    "Search a list (array) of numbers for the biggest grade. Again, the computer \"knows\" how\r\n",
    "many grades there are, so a for loop is appropriate."
   ]
  },
  {
   "cell_type": "markdown",
   "id": "f564f3a4-ef39-41ea-8d36-bc9dd2d6518f",
   "metadata": {},
   "source": [
    "for(let i = 0; i <= studentList.length; i++){\n",
    "    console.log(i);\n",
    "}"
   ]
  },
  {
   "cell_type": "markdown",
   "id": "f6390cc2-d928-42e5-83c9-9b7097c451ce",
   "metadata": {},
   "source": []
  },
  {
   "cell_type": "markdown",
   "id": "524b726f-8620-4680-9728-e839652b40ab",
   "metadata": {},
   "source": [
    "specified element is in the list"
   ]
  },
  {
   "cell_type": "code",
   "execution_count": 20,
   "id": "f2cc05cc-aa97-4507-a1ef-40218b6c89e9",
   "metadata": {},
   "outputs": [
    {
     "name": "stdout",
     "output_type": "stream",
     "text": [
      "Pear located in the list\n"
     ]
    }
   ],
   "source": [
    "const fruits = [\"Apple\", \"Pear\", \"Cherry\", \"Date\"]\n",
    "for(let i = 0; i < fruits.length; i++){\n",
    "if(fruits[i] === \"Pear\"){\n",
    "console.log(\"Pear located in the list\");\n",
    "   }\n",
    "}"
   ]
  },
  {
   "cell_type": "markdown",
   "id": "d3ad7ef6-dce9-4adc-a949-9e3e6c39aa3e",
   "metadata": {},
   "source": [
    "Pear located in the list\n",
    "Note that we can look at the length of the list using the .length() list method. This is an easy\n",
    "way of telling the computer you want the length of the list. We can also use it to see how\n",
    "many items are in the list. Lets look at another example below."
   ]
  },
  {
   "cell_type": "code",
   "execution_count": 21,
   "id": "8a70ee4f-4bb6-41da-9526-b3f4b2e5ad9b",
   "metadata": {},
   "outputs": [
    {
     "name": "stdout",
     "output_type": "stream",
     "text": [
      "3\n"
     ]
    }
   ],
   "source": [
    "let students = [\"Nicole\", \"Kye\", \"Leila\"];\n",
    "console.log(students.length)"
   ]
  },
  {
   "cell_type": "code",
   "execution_count": 22,
   "id": "8a0037b3-a7a5-4b51-af53-1b725899a244",
   "metadata": {},
   "outputs": [],
   "source": [
    "let studentList = [\"Nicole\", \"Kye\", \"Leila\"];"
   ]
  },
  {
   "cell_type": "markdown",
   "id": "59c73276-638a-443c-b950-3afcbbad9cf3",
   "metadata": {},
   "source": [
    "let numbers = [10, 20, 30, 40, 50];\n",
    "let sum = 0;\n",
    "for (let i = 0; i < numbers.length; i++) {\n",
    "sum += numbers[i];\n",
    "}\n",
    "console.log(\"Total Sum:\", sum);"
   ]
  },
  {
   "cell_type": "markdown",
   "id": "9b87ea21-bce5-430e-af85-12340185abfc",
   "metadata": {},
   "source": [
    "do..while loops\r\n",
    "Executes at least once, even if the condition is initially false.\r\n",
    "//Takes an input, then prints out the userInput, this continues until a number less\r\n",
    "let userInput;\r\n",
    "do {\r\n",
    "userInput = Math.random(); // Simulate user input with random number\r\n",
    "console.log(\"User Input:\", userInput);\r\n",
    "} while (userInput < 0.5);\r\n",
    "User Input: 0.6750512568020854\r\n",
    "//Generating a random number until its even. Checking for an even number with the m\r\n",
    "let randomNumber;\r\n",
    "do {\r\n",
    "randomNumber = Math.floor(Math.random() * 100); // Random number between 0 and\r\n",
    "console.log(\"Generated Number:\", randomNumber);\r\n",
    "} while (randomNumber % 2 !== 0); // Continue if the number is odd\r\n",
    "Generated Number: 47\r\n",
    "Generated Number: 42\r\n",
    "Commmon Mistakes\r\n",
    "\r\n",
    "Infinite Loops\r\n",
    "\r\n",
    "Occur when the loop's exit condition is never met.\r\n",
    "Common in while and do...while loops if the condition for exiting the loop is not\r\n",
    "properly updated within the loop.\r\n",
    "Example:\r\n",
    "let x = 2;\r\n",
    "\r\n",
    "In [78]: In [4]: In [27]: In [1]:"
   ]
  },
  {
   "cell_type": "markdown",
   "id": "1bdd0eb8-5b42-4bd5-bc8b-343cb8d262b1",
   "metadata": {},
   "source": [
    " //Takes an input, then prints out the userInput, this continues until a number less let userInput; do { \n",
    "userInput = Math.random(); // Simulate user input with random number console.log(\"User Input:\", userInput); } while (userInput < 0.5); User Input: 0.\n",
    "6750512568020854 //Generating a random number until its eve\n",
    ". Checking for an even number with the m let randomNumber; do { randomNumber = Math.floor(Math.random() * 100); // Random number between 0 and console.log(\"Generated Number:\", randomNumber); } while\n",
    "                                                               (randomNumber % 2 !== 0); // Continue if the number is odd Ge\n",
    "                                                               nerated Number: 47 Generated Number: 42 Commmon Mistakes"
   ]
  }
 ],
 "metadata": {
  "kernelspec": {
   "display_name": "JavaScript (Node.js)",
   "language": "javascript",
   "name": "javascript"
  },
  "language_info": {
   "file_extension": ".js",
   "mimetype": "application/javascript",
   "name": "javascript",
   "version": "20.10.0"
  }
 },
 "nbformat": 4,
 "nbformat_minor": 5
}
