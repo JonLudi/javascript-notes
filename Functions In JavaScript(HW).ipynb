{
 "cells": [
  {
   "cell_type": "markdown",
   "id": "8144a03c-ac32-4b58-90a1-8fc4e4e340af",
   "metadata": {},
   "source": [
    "# Functions In Javascript"
   ]
  },
  {
   "cell_type": "markdown",
   "id": "12f100ae-4b70-4c03-8821-38ecd16cf068",
   "metadata": {},
   "source": [
    "Documentation located here.\n",
    "Functions: Functions are one of the fundamental building blocks in JavaScript. A function in\n",
    "JavaScript is similar to a procedure—a set of statements that performs a task or calculates a\n",
    "value, but for a procedure to qualify as a function, it should take some input and return an\n",
    "output. Functions are repeatable lines of code that make our programs neater and easier to\n",
    "read and run."
   ]
  },
  {
   "cell_type": "markdown",
   "id": "8b05f245-d49a-4646-ac2c-dfde856be276",
   "metadata": {},
   "source": [
    "# Defining Functions"
   ]
  },
  {
   "cell_type": "markdown",
   "id": "a66ed442-a00b-43c4-acfd-c3c244975f31",
   "metadata": {},
   "source": [
    "In JavaScript, in order to create a function there is a syntax that we use. There are multiple\n",
    "ways to create functions in Javascript, we will talk about 2 different ways below.\n",
    "Function Declarations:\n",
    "A function definition (also called a function declaration, or function statement) consists of\n",
    "the function keyword, followed by:\n",
    "1. The name of the function.\n",
    "2. . A list of parameters to the function, enclosed in parentheses and separated commas.\n",
    "3. The savaScript statements that define the function, enclosed in curly braces, { /* ... */ }."
   ]
  },
  {
   "cell_type": "code",
   "execution_count": 3,
   "id": "6af1ed8b-e7f9-457a-9551-07f80de865d1",
   "metadata": {},
   "outputs": [],
   "source": [
    "function square(number){\n",
    "return number * number;\n",
    "}"
   ]
  },
  {
   "cell_type": "markdown",
   "id": "f80924c1-0149-44d7-96aa-440ef71b2a6b",
   "metadata": {},
   "source": [
    "In the example above the function called square takes a single parameter, which is the\n",
    "word enclosed in parenthesis. The function then utilizes the return keyword to pass the\n",
    "result of the parameter out of the function.\n",
    "Parameter: A parameter in programming is a named variable used only in a function or\n",
    "method definition. It acts like a variable, a placeholder that recieves and holds the values\n",
    "passed to the function when its called.\n",
    "Return: A return statement in a function is an optional statement that exists the function\n",
    "and returns a value to the program, outside of the block of the function. Any code following In [1]:\n",
    "\n",
    "the return statement is not executed. If a function doesnt have a return statement, or if no\n",
    "return value is specified, the function returns as undefined.\n",
    "function sum(a, b) {\n",
    "return a +b ;\n",
    "8\n",
    "In the function above we are utilizing 2 parameters and simply adding 2 numbers., A and B.\n",
    "We are then returning the value out of the function. However please note that functions\n",
    "need to have more than a definition which is seen above. We now need to call the function,\n",
    "in order to utilize it.is 8"
   ]
  },
  {
   "cell_type": "markdown",
   "id": "eceabe53-2934-48f3-9d76-9e91ab9cc0f6",
   "metadata": {},
   "source": [
    "# Calling a Function"
   ]
  },
  {
   "cell_type": "markdown",
   "id": "b2000e1a-c7fe-4746-83a7-51ee817dc5de",
   "metadata": {},
   "source": [
    "Function Call: A function call is when you call or use the function you have created. Note\n",
    "that when you create a function it does not need to be used right away in a procedural\n",
    "order. You can create it and use it whenever you need, as many times as needed. Before\n",
    "calling the function you must define it in the steps above. The syntax for calling a function is\n",
    "below, we are using the function definition from the sum function we created above. Note\n",
    "that we are using something called arguments in a function call.\n",
    "Argument: An argument is the value we input in the function call that is passed through the\n",
    "function via parameters. In other words the value of arguments are inptu and become the\n",
    "value of parameters in the function definition, much like how you assign a variable a value.\n",
    "The position of arguments matter, the arguments fill in the parameters in the ordere in\n",
    "which they are written.\n",
    "Syntax:\n",
    "function_name (arguments);"
   ]
  },
  {
   "cell_type": "markdown",
   "id": "2665cfac-693a-484b-b24c-a6ebf3ede992",
   "metadata": {},
   "source": [
    "Example:\n",
    "sum(3, 5);\n",
    "Here is how we can call the square function we defined before in our notes.\n",
    "Example:\n",
    "square(5);\n",
    "25\n",
    "Syntax: In [ ]: In [ ]: In [4]: Out[4]:"
   ]
  },
  {
   "cell_type": "markdown",
   "id": "2f7410a8-3e30-4680-b5c2-df86f1c2a6ec",
   "metadata": {},
   "source": [
    "Function Definitions and Calls\n",
    "\n",
    "We always utilize function definitions, calls, parameters, return and arguments together.\n",
    "Parameters, return statements and arguments are always optional. Below are some example\n",
    "are simple functions with their definitions and calls. Note that Jupyter Lab will print these\n",
    "functions by default. You must create print statements / variables to actually see\n",
    "results of your functions in regular JS.\n",
    "Examples:"
   ]
  },
  {
   "cell_type": "code",
   "execution_count": 6,
   "id": "58af97be-3c8d-4238-a1e9-31ee6adcd1b2",
   "metadata": {},
   "outputs": [],
   "source": [
    "\n",
    "function greet(name) {\n",
    "console.log(\"Hello there \" + name);\n",
    "}"
   ]
  },
  {
   "cell_type": "markdown",
   "id": "110254e1-3579-49bd-bcea-bc93e24855bd",
   "metadata": {},
   "source": [
    "\n",
    "greet(\"Cooper\");\n",
    "Hello there Cooper\n",
    "function ageFinder(dateOfBirth, currentYear) {\n",
    "let age = currentYear - dateOfBirth;\n",
    "return age;\n",
    "}\n",
    "console.log(ageFinder(1990, 2023));"
   ]
  },
  {
   "cell_type": "markdown",
   "id": "09ac2eba-afa1-46a8-a3c8-a0856a46a7c1",
   "metadata": {},
   "source": [
    "# Returning vs. console.Log() in Functions"
   ]
  },
  {
   "cell_type": "markdown",
   "id": "c06e9d15-f5e1-452c-8117-759b6f7532f8",
   "metadata": {},
   "source": [
    "Often when starting out we will only need to display the value of the result of the function.\n",
    "We can do this by simply logging the value to the console. However this is often not\n",
    "sufficient for programs. A printed value can only be used in the block, the problem will pop\n",
    "up when trying to use function values elsewhere. Lets take a look at this using a function\n",
    "below."
   ]
  },
  {
   "cell_type": "code",
   "execution_count": 8,
   "id": "9c6f5754-50a9-4bc7-9de6-95b9d6c31885",
   "metadata": {},
   "outputs": [],
   "source": [
    "Example:\n",
    "function printTen() {\n",
    "console.log(10);\n",
    "}"
   ]
  },
  {
   "cell_type": "code",
   "execution_count": 10,
   "id": "846cac46-b777-48c1-9d07-edab41218f3b",
   "metadata": {},
   "outputs": [
    {
     "name": "stdout",
     "output_type": "stream",
     "text": [
      "10\n",
      "NaN\n"
     ]
    }
   ],
   "source": [
    "let value = printTen();\n",
    "console.log(value * 2);\n"
   ]
  },
  {
   "cell_type": "markdown",
   "id": "f7955000-085a-47a8-a8d2-781eebe878c7",
   "metadata": {},
   "source": [
    "When we try to use the value from the function we will recieve an error, this is because the\n",
    "value is printed and not returned . If I wanted to use the value from the function\n",
    "elsewhere, then we run into problems. The way we can fix this is by returning values."
   ]
  },
  {
   "cell_type": "code",
   "execution_count": 11,
   "id": "f057a8ea-9306-4071-a056-98479531e1f9",
   "metadata": {},
   "outputs": [
    {
     "name": "stdout",
     "output_type": "stream",
     "text": [
      "20\n"
     ]
    }
   ],
   "source": [
    "Example:\n",
    "function returnTen() {\n",
    "return 10;\n",
    "}\n",
    "returnTen();\n",
    "let returnedValue = returnTen();\n",
    "console.log(returnedValue * 2);"
   ]
  },
  {
   "cell_type": "markdown",
   "id": "0900ec63-b5b0-4777-b80f-f1c1affbf862",
   "metadata": {},
   "source": [
    "# Arrow Functions (A cleaner way of writing functions)"
   ]
  },
  {
   "cell_type": "markdown",
   "id": "63f9edfb-bac7-4371-ada9-b10c68e62a90",
   "metadata": {},
   "source": [
    "An arrow function is a more concise and cleaner way to write functions."
   ]
  },
  {
   "cell_type": "markdown",
   "id": "0f341d09-12ad-4254-ab76-e535d6082acb",
   "metadata": {},
   "source": [
    "Example:\n",
    "const square = (number) => {\n",
    "return number * number;\n",
    "}"
   ]
  },
  {
   "cell_type": "markdown",
   "id": "46995856-d1a9-4fca-8b8b-a42099a8d7d9",
   "metadata": {},
   "source": [
    "1. The name of the function is preceded by a variable keyword (let or const), then choose a\n",
    "name."
   ]
  },
  {
   "cell_type": "markdown",
   "id": "d6663d07-2a3a-4f29-b01c-e6cc8140c1a6",
   "metadata": {},
   "source": [
    "2. The parameters are listed in the parenthesis, if no parameters are needed you must\n",
    "include the parethesis still."
   ]
  },
  {
   "cell_type": "markdown",
   "id": "933da8a1-37e7-4dbb-ab6f-4360fd89b739",
   "metadata": {},
   "source": [
    "3. Use an arrow => and open curly braces."
   ]
  },
  {
   "cell_type": "markdown",
   "id": "b9d7593f-d800-4d01-8bdd-fa3067ee1e3e",
   "metadata": {},
   "source": [
    "4. Input code to execute in the block."
   ]
  },
  {
   "cell_type": "code",
   "execution_count": null,
   "id": "dc7487d8-6923-4c17-a852-18741a718311",
   "metadata": {},
   "outputs": [],
   "source": []
  }
 ],
 "metadata": {
  "kernelspec": {
   "display_name": "JavaScript (Node.js)",
   "language": "javascript",
   "name": "javascript"
  },
  "language_info": {
   "file_extension": ".js",
   "mimetype": "application/javascript",
   "name": "javascript",
   "version": "20.10.0"
  }
 },
 "nbformat": 4,
 "nbformat_minor": 5
}
